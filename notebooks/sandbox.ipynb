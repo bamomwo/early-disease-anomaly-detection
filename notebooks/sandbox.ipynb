{
 "cells": [
  {
   "cell_type": "code",
   "execution_count": 2,
   "id": "46a2099c-0e19-4079-be92-f9cdc1a93f6f",
   "metadata": {},
   "outputs": [],
   "source": [
    "import pandas as pd\n",
    "import numpy as np"
   ]
  },
  {
   "cell_type": "code",
   "execution_count": 4,
   "id": "ad287ded-53fc-4720-8a48-e1cfcbd452dd",
   "metadata": {},
   "outputs": [],
   "source": [
    "data = pd.read_csv(\"../data/labelled/15.csv\")\n",
    "#survey = pd.read_csv(\"../data/raw/surveyresult.csv\")"
   ]
  },
  {
   "cell_type": "code",
   "execution_count": 5,
   "id": "b4a11980-8f10-4104-8dd9-61fc57ec71e1",
   "metadata": {},
   "outputs": [
    {
     "data": {
      "text/html": [
       "<div>\n",
       "<style scoped>\n",
       "    .dataframe tbody tr th:only-of-type {\n",
       "        vertical-align: middle;\n",
       "    }\n",
       "\n",
       "    .dataframe tbody tr th {\n",
       "        vertical-align: top;\n",
       "    }\n",
       "\n",
       "    .dataframe thead th {\n",
       "        text-align: right;\n",
       "    }\n",
       "</style>\n",
       "<table border=\"1\" class=\"dataframe\">\n",
       "  <thead>\n",
       "    <tr style=\"text-align: right;\">\n",
       "      <th></th>\n",
       "      <th>session</th>\n",
       "      <th>timestamp</th>\n",
       "      <th>temp_mean</th>\n",
       "      <th>temp_std</th>\n",
       "      <th>temp_min</th>\n",
       "      <th>temp_max</th>\n",
       "      <th>temp_range</th>\n",
       "      <th>acc_magnitude_mean</th>\n",
       "      <th>acc_magnitude_std</th>\n",
       "      <th>acc_magnitude_max</th>\n",
       "      <th>...</th>\n",
       "      <th>hr_std</th>\n",
       "      <th>hr_min</th>\n",
       "      <th>hr_max</th>\n",
       "      <th>hr_range</th>\n",
       "      <th>hr_acc_ratio</th>\n",
       "      <th>hrv_mean_ibi</th>\n",
       "      <th>hrv_rmssd</th>\n",
       "      <th>hrv_sdnn</th>\n",
       "      <th>hrv_pnn50</th>\n",
       "      <th>stress_level</th>\n",
       "    </tr>\n",
       "  </thead>\n",
       "  <tbody>\n",
       "    <tr>\n",
       "      <th>0</th>\n",
       "      <td>15_1594140175</td>\n",
       "      <td>2020-07-07 16:42:56</td>\n",
       "      <td>30.1200</td>\n",
       "      <td>0.010160</td>\n",
       "      <td>30.11</td>\n",
       "      <td>30.13</td>\n",
       "      <td>0.02</td>\n",
       "      <td>1.015027</td>\n",
       "      <td>0.028650</td>\n",
       "      <td>1.153396</td>\n",
       "      <td>...</td>\n",
       "      <td>NaN</td>\n",
       "      <td>NaN</td>\n",
       "      <td>NaN</td>\n",
       "      <td>NaN</td>\n",
       "      <td>NaN</td>\n",
       "      <td>NaN</td>\n",
       "      <td>NaN</td>\n",
       "      <td>NaN</td>\n",
       "      <td>NaN</td>\n",
       "      <td>0</td>\n",
       "    </tr>\n",
       "    <tr>\n",
       "      <th>1</th>\n",
       "      <td>15_1594140175</td>\n",
       "      <td>2020-07-07 16:43:04</td>\n",
       "      <td>30.3775</td>\n",
       "      <td>0.206210</td>\n",
       "      <td>30.13</td>\n",
       "      <td>30.67</td>\n",
       "      <td>0.54</td>\n",
       "      <td>1.033760</td>\n",
       "      <td>0.171736</td>\n",
       "      <td>1.731557</td>\n",
       "      <td>...</td>\n",
       "      <td>2.133017</td>\n",
       "      <td>81.00</td>\n",
       "      <td>87.25</td>\n",
       "      <td>6.25</td>\n",
       "      <td>1.254284</td>\n",
       "      <td>NaN</td>\n",
       "      <td>NaN</td>\n",
       "      <td>NaN</td>\n",
       "      <td>NaN</td>\n",
       "      <td>0</td>\n",
       "    </tr>\n",
       "    <tr>\n",
       "      <th>2</th>\n",
       "      <td>15_1594140175</td>\n",
       "      <td>2020-07-07 16:43:12</td>\n",
       "      <td>30.6400</td>\n",
       "      <td>0.061801</td>\n",
       "      <td>30.55</td>\n",
       "      <td>30.73</td>\n",
       "      <td>0.18</td>\n",
       "      <td>1.026084</td>\n",
       "      <td>0.108528</td>\n",
       "      <td>1.923208</td>\n",
       "      <td>...</td>\n",
       "      <td>0.759218</td>\n",
       "      <td>78.67</td>\n",
       "      <td>80.75</td>\n",
       "      <td>2.08</td>\n",
       "      <td>1.212266</td>\n",
       "      <td>NaN</td>\n",
       "      <td>NaN</td>\n",
       "      <td>NaN</td>\n",
       "      <td>NaN</td>\n",
       "      <td>0</td>\n",
       "    </tr>\n",
       "    <tr>\n",
       "      <th>3</th>\n",
       "      <td>15_1594140175</td>\n",
       "      <td>2020-07-07 16:43:20</td>\n",
       "      <td>30.5050</td>\n",
       "      <td>0.024363</td>\n",
       "      <td>30.45</td>\n",
       "      <td>30.53</td>\n",
       "      <td>0.08</td>\n",
       "      <td>1.014604</td>\n",
       "      <td>0.048561</td>\n",
       "      <td>1.419211</td>\n",
       "      <td>...</td>\n",
       "      <td>1.720837</td>\n",
       "      <td>73.57</td>\n",
       "      <td>78.25</td>\n",
       "      <td>4.68</td>\n",
       "      <td>1.170831</td>\n",
       "      <td>NaN</td>\n",
       "      <td>NaN</td>\n",
       "      <td>NaN</td>\n",
       "      <td>NaN</td>\n",
       "      <td>0</td>\n",
       "    </tr>\n",
       "    <tr>\n",
       "      <th>4</th>\n",
       "      <td>15_1594140175</td>\n",
       "      <td>2020-07-07 16:43:28</td>\n",
       "      <td>30.7225</td>\n",
       "      <td>0.095275</td>\n",
       "      <td>30.55</td>\n",
       "      <td>30.81</td>\n",
       "      <td>0.26</td>\n",
       "      <td>1.019964</td>\n",
       "      <td>0.090604</td>\n",
       "      <td>1.456649</td>\n",
       "      <td>...</td>\n",
       "      <td>0.986226</td>\n",
       "      <td>70.38</td>\n",
       "      <td>72.92</td>\n",
       "      <td>2.54</td>\n",
       "      <td>1.090897</td>\n",
       "      <td>NaN</td>\n",
       "      <td>NaN</td>\n",
       "      <td>NaN</td>\n",
       "      <td>NaN</td>\n",
       "      <td>0</td>\n",
       "    </tr>\n",
       "  </tbody>\n",
       "</table>\n",
       "<p>5 rows × 46 columns</p>\n",
       "</div>"
      ],
      "text/plain": [
       "         session            timestamp  temp_mean  temp_std  temp_min  \\\n",
       "0  15_1594140175  2020-07-07 16:42:56    30.1200  0.010160     30.11   \n",
       "1  15_1594140175  2020-07-07 16:43:04    30.3775  0.206210     30.13   \n",
       "2  15_1594140175  2020-07-07 16:43:12    30.6400  0.061801     30.55   \n",
       "3  15_1594140175  2020-07-07 16:43:20    30.5050  0.024363     30.45   \n",
       "4  15_1594140175  2020-07-07 16:43:28    30.7225  0.095275     30.55   \n",
       "\n",
       "   temp_max  temp_range  acc_magnitude_mean  acc_magnitude_std  \\\n",
       "0     30.13        0.02            1.015027           0.028650   \n",
       "1     30.67        0.54            1.033760           0.171736   \n",
       "2     30.73        0.18            1.026084           0.108528   \n",
       "3     30.53        0.08            1.014604           0.048561   \n",
       "4     30.81        0.26            1.019964           0.090604   \n",
       "\n",
       "   acc_magnitude_max  ...    hr_std  hr_min  hr_max  hr_range  hr_acc_ratio  \\\n",
       "0           1.153396  ...       NaN     NaN     NaN       NaN           NaN   \n",
       "1           1.731557  ...  2.133017   81.00   87.25      6.25      1.254284   \n",
       "2           1.923208  ...  0.759218   78.67   80.75      2.08      1.212266   \n",
       "3           1.419211  ...  1.720837   73.57   78.25      4.68      1.170831   \n",
       "4           1.456649  ...  0.986226   70.38   72.92      2.54      1.090897   \n",
       "\n",
       "   hrv_mean_ibi  hrv_rmssd  hrv_sdnn  hrv_pnn50  stress_level  \n",
       "0           NaN        NaN       NaN        NaN             0  \n",
       "1           NaN        NaN       NaN        NaN             0  \n",
       "2           NaN        NaN       NaN        NaN             0  \n",
       "3           NaN        NaN       NaN        NaN             0  \n",
       "4           NaN        NaN       NaN        NaN             0  \n",
       "\n",
       "[5 rows x 46 columns]"
      ]
     },
     "execution_count": 5,
     "metadata": {},
     "output_type": "execute_result"
    }
   ],
   "source": [
    "data.head()"
   ]
  },
  {
   "cell_type": "code",
   "execution_count": 12,
   "id": "246ab330-a194-4918-9863-0ef68b288fbe",
   "metadata": {},
   "outputs": [
    {
     "data": {
      "text/plain": [
       "np.int64(0)"
      ]
     },
     "execution_count": 12,
     "metadata": {},
     "output_type": "execute_result"
    }
   ],
   "source": [
    "(data[\"stress_level\"] == 1).sum()"
   ]
  },
  {
   "cell_type": "code",
   "execution_count": 10,
   "id": "e1b5bf82-4842-4ee1-8efc-7d8e55d63568",
   "metadata": {},
   "outputs": [
    {
     "data": {
      "text/plain": [
       "(32814, 46)"
      ]
     },
     "execution_count": 10,
     "metadata": {},
     "output_type": "execute_result"
    }
   ],
   "source": [
    "data.shape"
   ]
  },
  {
   "cell_type": "code",
   "execution_count": 5,
   "id": "4163e389-5c17-417c-ab37-21d2baa25243",
   "metadata": {},
   "outputs": [
    {
     "data": {
      "text/plain": [
       "Index(['session', 'timestamp', 'hr_mean', 'hr_std', 'hr_min', 'hr_max',\n",
       "       'hr_range', 'temp_mean', 'temp_std', 'temp_min', 'temp_max',\n",
       "       'temp_range', 'acc_magnitude_mean', 'acc_magnitude_std',\n",
       "       'acc_magnitude_max', 'acc_magnitude_min', 'acc_activity_level',\n",
       "       'eda_mean', 'eda_std', 'eda_max', 'eda_min', 'eda_range', 'eda_slope',\n",
       "       'num_scr_peaks', 'mean_scr_amplitude', 'mean_scr_peak_width',\n",
       "       'mean_scr_area', 'bvp_mean', 'bvp_std', 'bvp_max', 'bvp_min',\n",
       "       'bvp_range', 'bvp_systolic_amp_mean', 'bvp_systolic_amp_std',\n",
       "       'bvp_pulse_width_mean', 'bvp_pulse_width_std', 'bvp_rise_time_mean',\n",
       "       'bvp_rise_time_std', 'bvp_pulse_rate', 'eda_acc_ratio', 'hr_acc_ratio',\n",
       "       'hrv_mean_ibi', 'hrv_rmssd', 'hrv_sdnn', 'hrv_pnn50'],\n",
       "      dtype='object')"
      ]
     },
     "execution_count": 5,
     "metadata": {},
     "output_type": "execute_result"
    }
   ],
   "source": [
    "data.columns"
   ]
  },
  {
   "cell_type": "code",
   "execution_count": 6,
   "id": "3e7da82e-9399-456f-8a63-802c44922773",
   "metadata": {},
   "outputs": [
    {
     "data": {
      "text/plain": [
       "Index(['ID', 'Start time', 'End time', 'duration', 'date', 'Stress level',\n",
       "       'COVID related', 'Treating a covid patient', 'Patient in Crisis',\n",
       "       'Patient or patient's family', 'Doctors or colleagues',\n",
       "       'Administration, lab, pharmacy, radiology, or other ancilliary services\\n',\n",
       "       'Increased Workload', 'Technology related stress', 'Lack of supplies',\n",
       "       'Documentation', 'Competency related stress',\n",
       "       'Saftey (physical or physiological threats)',\n",
       "       'Work Environment - Physical or others: work processes or procedures',\n",
       "       'Description'],\n",
       "      dtype='object')"
      ]
     },
     "execution_count": 6,
     "metadata": {},
     "output_type": "execute_result"
    }
   ],
   "source": [
    "survey.columns"
   ]
  },
  {
   "cell_type": "code",
   "execution_count": null,
   "id": "95d7051c-881b-4a32-848d-855c5ce37a1e",
   "metadata": {},
   "outputs": [],
   "source": []
  }
 ],
 "metadata": {
  "kernelspec": {
   "display_name": "Python 3 (ipykernel)",
   "language": "python",
   "name": "python3"
  },
  "language_info": {
   "codemirror_mode": {
    "name": "ipython",
    "version": 3
   },
   "file_extension": ".py",
   "mimetype": "text/x-python",
   "name": "python",
   "nbconvert_exporter": "python",
   "pygments_lexer": "ipython3",
   "version": "3.13.3"
  }
 },
 "nbformat": 4,
 "nbformat_minor": 5
}
