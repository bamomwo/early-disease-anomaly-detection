{
 "cells": [
  {
   "cell_type": "code",
   "execution_count": 1,
   "id": "6fefca32-d222-4829-9a14-847e2087d4a4",
   "metadata": {},
   "outputs": [],
   "source": [
    "import pandas as pd\n",
    "import numpy as np"
   ]
  },
  {
   "cell_type": "code",
   "execution_count": 4,
   "id": "272137bd-5038-412e-861b-18b02affde63",
   "metadata": {},
   "outputs": [],
   "source": [
    "data = pd.read_csv(\"../data/interim/participant_5C_merged.csv\")"
   ]
  },
  {
   "cell_type": "code",
   "execution_count": 5,
   "id": "8373e944-e472-4054-b1a9-b1d7b42c2110",
   "metadata": {},
   "outputs": [
    {
     "data": {
      "text/html": [
       "<div>\n",
       "<style scoped>\n",
       "    .dataframe tbody tr th:only-of-type {\n",
       "        vertical-align: middle;\n",
       "    }\n",
       "\n",
       "    .dataframe tbody tr th {\n",
       "        vertical-align: top;\n",
       "    }\n",
       "\n",
       "    .dataframe thead th {\n",
       "        text-align: right;\n",
       "    }\n",
       "</style>\n",
       "<table border=\"1\" class=\"dataframe\">\n",
       "  <thead>\n",
       "    <tr style=\"text-align: right;\">\n",
       "      <th></th>\n",
       "      <th>timestamp</th>\n",
       "      <th>TEMP</th>\n",
       "      <th>HR</th>\n",
       "      <th>ACC_X</th>\n",
       "      <th>ACC_Y</th>\n",
       "      <th>ACC_Z</th>\n",
       "      <th>EDA</th>\n",
       "      <th>BVP</th>\n",
       "    </tr>\n",
       "  </thead>\n",
       "  <tbody>\n",
       "    <tr>\n",
       "      <th>0</th>\n",
       "      <td>2020-04-14 17:50:26.000</td>\n",
       "      <td>31.99</td>\n",
       "      <td>NaN</td>\n",
       "      <td>-56.625</td>\n",
       "      <td>25.75</td>\n",
       "      <td>-5.750</td>\n",
       "      <td>0.000000</td>\n",
       "      <td>-0.003750</td>\n",
       "    </tr>\n",
       "    <tr>\n",
       "      <th>1</th>\n",
       "      <td>2020-04-14 17:50:26.250</td>\n",
       "      <td>31.99</td>\n",
       "      <td>NaN</td>\n",
       "      <td>-52.375</td>\n",
       "      <td>29.50</td>\n",
       "      <td>-20.250</td>\n",
       "      <td>0.155022</td>\n",
       "      <td>2.164375</td>\n",
       "    </tr>\n",
       "    <tr>\n",
       "      <th>2</th>\n",
       "      <td>2020-04-14 17:50:26.500</td>\n",
       "      <td>31.99</td>\n",
       "      <td>NaN</td>\n",
       "      <td>-47.375</td>\n",
       "      <td>19.75</td>\n",
       "      <td>-41.750</td>\n",
       "      <td>0.203707</td>\n",
       "      <td>11.654375</td>\n",
       "    </tr>\n",
       "    <tr>\n",
       "      <th>3</th>\n",
       "      <td>2020-04-14 17:50:26.750</td>\n",
       "      <td>31.99</td>\n",
       "      <td>NaN</td>\n",
       "      <td>-49.500</td>\n",
       "      <td>15.00</td>\n",
       "      <td>-36.875</td>\n",
       "      <td>0.347199</td>\n",
       "      <td>49.225000</td>\n",
       "    </tr>\n",
       "    <tr>\n",
       "      <th>4</th>\n",
       "      <td>2020-04-14 17:50:27.000</td>\n",
       "      <td>31.99</td>\n",
       "      <td>NaN</td>\n",
       "      <td>-36.625</td>\n",
       "      <td>17.75</td>\n",
       "      <td>-50.000</td>\n",
       "      <td>0.827640</td>\n",
       "      <td>160.436250</td>\n",
       "    </tr>\n",
       "  </tbody>\n",
       "</table>\n",
       "</div>"
      ],
      "text/plain": [
       "                 timestamp   TEMP  HR   ACC_X  ACC_Y   ACC_Z       EDA  \\\n",
       "0  2020-04-14 17:50:26.000  31.99 NaN -56.625  25.75  -5.750  0.000000   \n",
       "1  2020-04-14 17:50:26.250  31.99 NaN -52.375  29.50 -20.250  0.155022   \n",
       "2  2020-04-14 17:50:26.500  31.99 NaN -47.375  19.75 -41.750  0.203707   \n",
       "3  2020-04-14 17:50:26.750  31.99 NaN -49.500  15.00 -36.875  0.347199   \n",
       "4  2020-04-14 17:50:27.000  31.99 NaN -36.625  17.75 -50.000  0.827640   \n",
       "\n",
       "          BVP  \n",
       "0   -0.003750  \n",
       "1    2.164375  \n",
       "2   11.654375  \n",
       "3   49.225000  \n",
       "4  160.436250  "
      ]
     },
     "execution_count": 5,
     "metadata": {},
     "output_type": "execute_result"
    }
   ],
   "source": [
    "data.head()"
   ]
  },
  {
   "cell_type": "code",
   "execution_count": 6,
   "id": "700d8c7c-8472-4d7e-84d6-837f60409516",
   "metadata": {},
   "outputs": [
    {
     "data": {
      "text/plain": [
       "11450312"
      ]
     },
     "execution_count": 6,
     "metadata": {},
     "output_type": "execute_result"
    }
   ],
   "source": [
    "data.size"
   ]
  },
  {
   "cell_type": "code",
   "execution_count": 7,
   "id": "9e167a3a-e2ad-4f3f-8dba-39f275a5641b",
   "metadata": {},
   "outputs": [
    {
     "data": {
      "text/plain": [
       "(1431289, 8)"
      ]
     },
     "execution_count": 7,
     "metadata": {},
     "output_type": "execute_result"
    }
   ],
   "source": [
    "data.shape"
   ]
  },
  {
   "cell_type": "code",
   "execution_count": null,
   "id": "90b30332-4299-401c-9a90-e8ecb269223f",
   "metadata": {},
   "outputs": [],
   "source": []
  }
 ],
 "metadata": {
  "kernelspec": {
   "display_name": "Python 3 (ipykernel)",
   "language": "python",
   "name": "python3"
  },
  "language_info": {
   "codemirror_mode": {
    "name": "ipython",
    "version": 3
   },
   "file_extension": ".py",
   "mimetype": "text/x-python",
   "name": "python",
   "nbconvert_exporter": "python",
   "pygments_lexer": "ipython3",
   "version": "3.13.3"
  }
 },
 "nbformat": 4,
 "nbformat_minor": 5
}
