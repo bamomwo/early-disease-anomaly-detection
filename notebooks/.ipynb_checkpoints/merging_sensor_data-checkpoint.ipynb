{
 "cells": [
  {
   "cell_type": "code",
   "execution_count": 1,
   "id": "4ecb2e1f-f224-46ad-9da2-e52f13e1c8fa",
   "metadata": {},
   "outputs": [],
   "source": [
    "import pandas as pd\n",
    "import numpy as np"
   ]
  },
  {
   "cell_type": "code",
   "execution_count": 3,
   "id": "d4abc85a-edfe-4b12-8d32-d49757df40c1",
   "metadata": {},
   "outputs": [],
   "source": [
    "# Sensor biomarker data are organized in CSV files for each biomarker across several sessions for all participants. \n",
    "# Our goal is proper data organization. First, we want to structure the data as organized data from all sensors according to participants (sensor readings for each participant are resampled and merged for each individual). \n",
    "# This approach facilitates training various anomaly detection models (population-based model, purely personalized model, or a personalized model via adaptation). \n",
    "# By segregating data according to participants, features can be engineered across this data, and then the data can be easily merged to obtain a general population dataset. "
   ]
  },
  {
   "cell_type": "code",
   "execution_count": 65,
   "id": "49da57c4-26ca-40e1-a57a-06cd278a05da",
   "metadata": {},
   "outputs": [],
   "source": [
    "# Read sensorfile\n",
    "hr_df_orig = pd.read_csv(\"../data/processed/hr_processed.csv\", low_memory=False, header=0)\n",
    "temp_df_orig = pd.read_csv(\"../data/processed/temp_processed.csv\", low_memory=False, header=0)"
   ]
  },
  {
   "cell_type": "code",
   "execution_count": 66,
   "id": "1c3f3ea7-2d04-4c5d-ad8b-358e83b7de10",
   "metadata": {},
   "outputs": [],
   "source": [
    "hr_df = hr_df_orig.drop([\"participant\", \"session_ts\"], axis = 1)\n",
    "temp_df = temp_df_orig.drop([\"participant\", \"session_ts\"], axis = 1)"
   ]
  },
  {
   "cell_type": "code",
   "execution_count": 67,
   "id": "74c60105-3fe6-4430-93b0-fe77e6d955e9",
   "metadata": {},
   "outputs": [],
   "source": [
    "# convert to datatime\n",
    "hr_df['timestamp'] = pd.to_datetime(hr_df['timestamp'])\n",
    "temp_df['timestamp'] = pd.to_datetime(temp_df['timestamp'])"
   ]
  },
  {
   "cell_type": "code",
   "execution_count": 68,
   "id": "19d9fc5f-ba08-4f3d-9efa-fa7bf2cb123f",
   "metadata": {},
   "outputs": [],
   "source": [
    "# Setting the timestamp as index\n",
    "hr_df.set_index('timestamp', inplace=True)\n",
    "temp_df.set_index('timestamp', inplace=True)"
   ]
  },
  {
   "cell_type": "code",
   "execution_count": 69,
   "id": "a5581ece-e181-4608-926d-d92ff477c49d",
   "metadata": {},
   "outputs": [],
   "source": [
    "# Step 1: Get only numeric columns\n",
    "hr_numeric = hr_df.select_dtypes(include='number')\n",
    "temp_numeric = temp_df.select_dtypes(include='number')\n",
    "\n",
    "# Step 2: Add back the datetime index\n",
    "hr_numeric.index = hr_df.index\n",
    "temp_numeric.index = temp_df.index"
   ]
  },
  {
   "cell_type": "code",
   "execution_count": 72,
   "id": "642c0599-3aa5-4f88-9814-6a95ae4baa3c",
   "metadata": {},
   "outputs": [],
   "source": [
    "# Resampling\n",
    "hr_df = hr_numeric.resample('1s').mean().interpolate()\n",
    "temp_df = temp_numeric.resample('1s').mean().interpolate()"
   ]
  },
  {
   "cell_type": "code",
   "execution_count": 73,
   "id": "ecb827ad-5cdf-4be1-8edc-6b5dd6a5aa8f",
   "metadata": {},
   "outputs": [
    {
     "data": {
      "text/plain": [
       "(22179058, 1)"
      ]
     },
     "execution_count": 73,
     "metadata": {},
     "output_type": "execute_result"
    }
   ],
   "source": [
    "hr_df.shape"
   ]
  },
  {
   "cell_type": "code",
   "execution_count": 74,
   "id": "6d9f9638-839c-48f5-8254-c4f50f9cd646",
   "metadata": {},
   "outputs": [
    {
     "data": {
      "text/plain": [
       "(22179066, 1)"
      ]
     },
     "execution_count": 74,
     "metadata": {},
     "output_type": "execute_result"
    }
   ],
   "source": [
    "temp_df.shape"
   ]
  },
  {
   "cell_type": "code",
   "execution_count": 75,
   "id": "dd25960a-fa23-4ba3-8632-f88b9130d7e5",
   "metadata": {},
   "outputs": [
    {
     "data": {
      "text/html": [
       "<div>\n",
       "<style scoped>\n",
       "    .dataframe tbody tr th:only-of-type {\n",
       "        vertical-align: middle;\n",
       "    }\n",
       "\n",
       "    .dataframe tbody tr th {\n",
       "        vertical-align: top;\n",
       "    }\n",
       "\n",
       "    .dataframe thead th {\n",
       "        text-align: right;\n",
       "    }\n",
       "</style>\n",
       "<table border=\"1\" class=\"dataframe\">\n",
       "  <thead>\n",
       "    <tr style=\"text-align: right;\">\n",
       "      <th></th>\n",
       "      <th>HR</th>\n",
       "    </tr>\n",
       "    <tr>\n",
       "      <th>timestamp</th>\n",
       "      <th></th>\n",
       "    </tr>\n",
       "  </thead>\n",
       "  <tbody>\n",
       "    <tr>\n",
       "      <th>2020-04-13 14:32:03</th>\n",
       "      <td>109.0</td>\n",
       "    </tr>\n",
       "    <tr>\n",
       "      <th>2020-04-13 14:32:04</th>\n",
       "      <td>83.5</td>\n",
       "    </tr>\n",
       "    <tr>\n",
       "      <th>2020-04-13 14:32:05</th>\n",
       "      <td>83.0</td>\n",
       "    </tr>\n",
       "    <tr>\n",
       "      <th>2020-04-13 14:32:06</th>\n",
       "      <td>83.0</td>\n",
       "    </tr>\n",
       "    <tr>\n",
       "      <th>2020-04-13 14:32:07</th>\n",
       "      <td>83.0</td>\n",
       "    </tr>\n",
       "  </tbody>\n",
       "</table>\n",
       "</div>"
      ],
      "text/plain": [
       "                        HR\n",
       "timestamp                 \n",
       "2020-04-13 14:32:03  109.0\n",
       "2020-04-13 14:32:04   83.5\n",
       "2020-04-13 14:32:05   83.0\n",
       "2020-04-13 14:32:06   83.0\n",
       "2020-04-13 14:32:07   83.0"
      ]
     },
     "execution_count": 75,
     "metadata": {},
     "output_type": "execute_result"
    }
   ],
   "source": [
    "hr_df.head()"
   ]
  },
  {
   "cell_type": "code",
   "execution_count": 76,
   "id": "b22a17ee-0052-42eb-9365-ec434a62f00d",
   "metadata": {},
   "outputs": [
    {
     "data": {
      "text/html": [
       "<div>\n",
       "<style scoped>\n",
       "    .dataframe tbody tr th:only-of-type {\n",
       "        vertical-align: middle;\n",
       "    }\n",
       "\n",
       "    .dataframe tbody tr th {\n",
       "        vertical-align: top;\n",
       "    }\n",
       "\n",
       "    .dataframe thead th {\n",
       "        text-align: right;\n",
       "    }\n",
       "</style>\n",
       "<table border=\"1\" class=\"dataframe\">\n",
       "  <thead>\n",
       "    <tr style=\"text-align: right;\">\n",
       "      <th></th>\n",
       "      <th>TEMP</th>\n",
       "    </tr>\n",
       "    <tr>\n",
       "      <th>timestamp</th>\n",
       "      <th></th>\n",
       "    </tr>\n",
       "  </thead>\n",
       "  <tbody>\n",
       "    <tr>\n",
       "      <th>2020-04-13 14:31:53</th>\n",
       "      <td>31.73</td>\n",
       "    </tr>\n",
       "    <tr>\n",
       "      <th>2020-04-13 14:31:54</th>\n",
       "      <td>31.73</td>\n",
       "    </tr>\n",
       "    <tr>\n",
       "      <th>2020-04-13 14:31:55</th>\n",
       "      <td>31.71</td>\n",
       "    </tr>\n",
       "    <tr>\n",
       "      <th>2020-04-13 14:31:56</th>\n",
       "      <td>31.71</td>\n",
       "    </tr>\n",
       "    <tr>\n",
       "      <th>2020-04-13 14:31:57</th>\n",
       "      <td>31.71</td>\n",
       "    </tr>\n",
       "  </tbody>\n",
       "</table>\n",
       "</div>"
      ],
      "text/plain": [
       "                      TEMP\n",
       "timestamp                 \n",
       "2020-04-13 14:31:53  31.73\n",
       "2020-04-13 14:31:54  31.73\n",
       "2020-04-13 14:31:55  31.71\n",
       "2020-04-13 14:31:56  31.71\n",
       "2020-04-13 14:31:57  31.71"
      ]
     },
     "execution_count": 76,
     "metadata": {},
     "output_type": "execute_result"
    }
   ],
   "source": [
    "temp_df.head()"
   ]
  },
  {
   "cell_type": "code",
   "execution_count": 77,
   "id": "c095a997-c370-4af8-8843-870dc4a36f0b",
   "metadata": {},
   "outputs": [],
   "source": [
    "hr_temp_df = merged_df = pd.merge(hr_df, temp_df, left_index=True, right_index=True, how=\"outer\")"
   ]
  },
  {
   "cell_type": "code",
   "execution_count": 78,
   "id": "d2467f6c-9907-4a3e-bc6c-e0e8fac13459",
   "metadata": {},
   "outputs": [
    {
     "data": {
      "text/html": [
       "<div>\n",
       "<style scoped>\n",
       "    .dataframe tbody tr th:only-of-type {\n",
       "        vertical-align: middle;\n",
       "    }\n",
       "\n",
       "    .dataframe tbody tr th {\n",
       "        vertical-align: top;\n",
       "    }\n",
       "\n",
       "    .dataframe thead th {\n",
       "        text-align: right;\n",
       "    }\n",
       "</style>\n",
       "<table border=\"1\" class=\"dataframe\">\n",
       "  <thead>\n",
       "    <tr style=\"text-align: right;\">\n",
       "      <th></th>\n",
       "      <th>HR</th>\n",
       "      <th>TEMP</th>\n",
       "    </tr>\n",
       "    <tr>\n",
       "      <th>timestamp</th>\n",
       "      <th></th>\n",
       "      <th></th>\n",
       "    </tr>\n",
       "  </thead>\n",
       "  <tbody>\n",
       "    <tr>\n",
       "      <th>2020-04-13 14:31:53</th>\n",
       "      <td>NaN</td>\n",
       "      <td>31.73</td>\n",
       "    </tr>\n",
       "    <tr>\n",
       "      <th>2020-04-13 14:31:54</th>\n",
       "      <td>NaN</td>\n",
       "      <td>31.73</td>\n",
       "    </tr>\n",
       "    <tr>\n",
       "      <th>2020-04-13 14:31:55</th>\n",
       "      <td>NaN</td>\n",
       "      <td>31.71</td>\n",
       "    </tr>\n",
       "    <tr>\n",
       "      <th>2020-04-13 14:31:56</th>\n",
       "      <td>NaN</td>\n",
       "      <td>31.71</td>\n",
       "    </tr>\n",
       "    <tr>\n",
       "      <th>2020-04-13 14:31:57</th>\n",
       "      <td>NaN</td>\n",
       "      <td>31.71</td>\n",
       "    </tr>\n",
       "  </tbody>\n",
       "</table>\n",
       "</div>"
      ],
      "text/plain": [
       "                     HR   TEMP\n",
       "timestamp                     \n",
       "2020-04-13 14:31:53 NaN  31.73\n",
       "2020-04-13 14:31:54 NaN  31.73\n",
       "2020-04-13 14:31:55 NaN  31.71\n",
       "2020-04-13 14:31:56 NaN  31.71\n",
       "2020-04-13 14:31:57 NaN  31.71"
      ]
     },
     "execution_count": 78,
     "metadata": {},
     "output_type": "execute_result"
    }
   ],
   "source": [
    "hr_temp_df.head()"
   ]
  },
  {
   "cell_type": "code",
   "execution_count": 79,
   "id": "db908f84-e691-495b-8401-9997704c5de0",
   "metadata": {},
   "outputs": [
    {
     "data": {
      "text/html": [
       "<div>\n",
       "<style scoped>\n",
       "    .dataframe tbody tr th:only-of-type {\n",
       "        vertical-align: middle;\n",
       "    }\n",
       "\n",
       "    .dataframe tbody tr th {\n",
       "        vertical-align: top;\n",
       "    }\n",
       "\n",
       "    .dataframe thead th {\n",
       "        text-align: right;\n",
       "    }\n",
       "</style>\n",
       "<table border=\"1\" class=\"dataframe\">\n",
       "  <thead>\n",
       "    <tr style=\"text-align: right;\">\n",
       "      <th></th>\n",
       "      <th>HR</th>\n",
       "      <th>TEMP</th>\n",
       "    </tr>\n",
       "    <tr>\n",
       "      <th>timestamp</th>\n",
       "      <th></th>\n",
       "      <th></th>\n",
       "    </tr>\n",
       "  </thead>\n",
       "  <tbody>\n",
       "    <tr>\n",
       "      <th>2020-04-13 14:31:53</th>\n",
       "      <td>NaN</td>\n",
       "      <td>31.73</td>\n",
       "    </tr>\n",
       "    <tr>\n",
       "      <th>2020-04-13 14:31:54</th>\n",
       "      <td>NaN</td>\n",
       "      <td>31.73</td>\n",
       "    </tr>\n",
       "    <tr>\n",
       "      <th>2020-04-13 14:31:55</th>\n",
       "      <td>NaN</td>\n",
       "      <td>31.71</td>\n",
       "    </tr>\n",
       "    <tr>\n",
       "      <th>2020-04-13 14:31:56</th>\n",
       "      <td>NaN</td>\n",
       "      <td>31.71</td>\n",
       "    </tr>\n",
       "    <tr>\n",
       "      <th>2020-04-13 14:31:57</th>\n",
       "      <td>NaN</td>\n",
       "      <td>31.71</td>\n",
       "    </tr>\n",
       "    <tr>\n",
       "      <th>2020-04-13 14:31:58</th>\n",
       "      <td>NaN</td>\n",
       "      <td>31.73</td>\n",
       "    </tr>\n",
       "    <tr>\n",
       "      <th>2020-04-13 14:31:59</th>\n",
       "      <td>NaN</td>\n",
       "      <td>31.71</td>\n",
       "    </tr>\n",
       "    <tr>\n",
       "      <th>2020-04-13 14:32:00</th>\n",
       "      <td>NaN</td>\n",
       "      <td>31.71</td>\n",
       "    </tr>\n",
       "    <tr>\n",
       "      <th>2020-04-13 14:32:01</th>\n",
       "      <td>NaN</td>\n",
       "      <td>31.73</td>\n",
       "    </tr>\n",
       "    <tr>\n",
       "      <th>2020-04-13 14:32:02</th>\n",
       "      <td>NaN</td>\n",
       "      <td>31.71</td>\n",
       "    </tr>\n",
       "    <tr>\n",
       "      <th>2020-04-13 14:32:03</th>\n",
       "      <td>109.00</td>\n",
       "      <td>31.71</td>\n",
       "    </tr>\n",
       "    <tr>\n",
       "      <th>2020-04-13 14:32:04</th>\n",
       "      <td>83.50</td>\n",
       "      <td>31.73</td>\n",
       "    </tr>\n",
       "    <tr>\n",
       "      <th>2020-04-13 14:32:05</th>\n",
       "      <td>83.00</td>\n",
       "      <td>31.73</td>\n",
       "    </tr>\n",
       "    <tr>\n",
       "      <th>2020-04-13 14:32:06</th>\n",
       "      <td>83.00</td>\n",
       "      <td>31.73</td>\n",
       "    </tr>\n",
       "    <tr>\n",
       "      <th>2020-04-13 14:32:07</th>\n",
       "      <td>83.00</td>\n",
       "      <td>31.73</td>\n",
       "    </tr>\n",
       "    <tr>\n",
       "      <th>2020-04-13 14:32:08</th>\n",
       "      <td>83.33</td>\n",
       "      <td>31.73</td>\n",
       "    </tr>\n",
       "    <tr>\n",
       "      <th>2020-04-13 14:32:09</th>\n",
       "      <td>82.29</td>\n",
       "      <td>31.75</td>\n",
       "    </tr>\n",
       "    <tr>\n",
       "      <th>2020-04-13 14:32:10</th>\n",
       "      <td>81.38</td>\n",
       "      <td>31.73</td>\n",
       "    </tr>\n",
       "    <tr>\n",
       "      <th>2020-04-13 14:32:11</th>\n",
       "      <td>80.67</td>\n",
       "      <td>31.77</td>\n",
       "    </tr>\n",
       "    <tr>\n",
       "      <th>2020-04-13 14:32:12</th>\n",
       "      <td>80.10</td>\n",
       "      <td>31.75</td>\n",
       "    </tr>\n",
       "  </tbody>\n",
       "</table>\n",
       "</div>"
      ],
      "text/plain": [
       "                         HR   TEMP\n",
       "timestamp                         \n",
       "2020-04-13 14:31:53     NaN  31.73\n",
       "2020-04-13 14:31:54     NaN  31.73\n",
       "2020-04-13 14:31:55     NaN  31.71\n",
       "2020-04-13 14:31:56     NaN  31.71\n",
       "2020-04-13 14:31:57     NaN  31.71\n",
       "2020-04-13 14:31:58     NaN  31.73\n",
       "2020-04-13 14:31:59     NaN  31.71\n",
       "2020-04-13 14:32:00     NaN  31.71\n",
       "2020-04-13 14:32:01     NaN  31.73\n",
       "2020-04-13 14:32:02     NaN  31.71\n",
       "2020-04-13 14:32:03  109.00  31.71\n",
       "2020-04-13 14:32:04   83.50  31.73\n",
       "2020-04-13 14:32:05   83.00  31.73\n",
       "2020-04-13 14:32:06   83.00  31.73\n",
       "2020-04-13 14:32:07   83.00  31.73\n",
       "2020-04-13 14:32:08   83.33  31.73\n",
       "2020-04-13 14:32:09   82.29  31.75\n",
       "2020-04-13 14:32:10   81.38  31.73\n",
       "2020-04-13 14:32:11   80.67  31.77\n",
       "2020-04-13 14:32:12   80.10  31.75"
      ]
     },
     "execution_count": 79,
     "metadata": {},
     "output_type": "execute_result"
    }
   ],
   "source": [
    "hr_temp_df[:20]"
   ]
  },
  {
   "cell_type": "code",
   "execution_count": null,
   "id": "2341e5d3-76c6-4561-af1e-c593c5f0ad1c",
   "metadata": {},
   "outputs": [],
   "source": []
  }
 ],
 "metadata": {
  "kernelspec": {
   "display_name": "Python 3 (ipykernel)",
   "language": "python",
   "name": "python3"
  },
  "language_info": {
   "codemirror_mode": {
    "name": "ipython",
    "version": 3
   },
   "file_extension": ".py",
   "mimetype": "text/x-python",
   "name": "python",
   "nbconvert_exporter": "python",
   "pygments_lexer": "ipython3",
   "version": "3.13.3"
  }
 },
 "nbformat": 4,
 "nbformat_minor": 5
}
